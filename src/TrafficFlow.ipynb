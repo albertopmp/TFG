{
 "cells": [
  {
   "cell_type": "markdown",
   "source": [
    "# TFG Alberto Pampín\n",
    "\n",
    "## Descripción del dataset\n",
    "\n",
    "En primer lugar hay que realizar los imports necesarios:"
   ],
   "metadata": {
    "collapsed": false
   }
  },
  {
   "cell_type": "code",
   "execution_count": null,
   "outputs": [],
   "source": [
    "import datetime\n",
    "import matplotlib as mpl\n",
    "import matplotlib.pyplot as plt\n",
    "import numpy as np\n",
    "import pandas as pd\n",
    "import matplotlib.dates as mdates\n",
    "\n",
    "import tensorflow as tf\n",
    "\n",
    "from tensorflow.keras import layers\n",
    "from tensorflow.keras import regularizers\n",
    "\n",
    "\n",
    "mpl.rcParams['figure.figsize'] = (8, 6)\n",
    "mpl.rcParams['axes.grid'] = False"
   ],
   "metadata": {
    "collapsed": false,
    "pycharm": {
     "name": "#%%\n"
    }
   }
  },
  {
   "cell_type": "markdown",
   "source": [
    "Se realiza la carga del fichero .csv que contiene los datos:"
   ],
   "metadata": {
    "collapsed": false
   }
  },
  {
   "cell_type": "code",
   "execution_count": null,
   "outputs": [],
   "source": [
    "#csv_path = \"../data/2_Oct2019.csv\"\n",
    "csv_path = \"../data/historico_10_19_02_20.csv\"\n",
    "df = pd.read_csv(csv_path)\n"
   ],
   "metadata": {
    "collapsed": false,
    "pycharm": {
     "name": "#%%\n"
    }
   }
  },
  {
   "cell_type": "markdown",
   "source": [
    "En este fichero se encuentran las mediciones que han realizado los sensores instalados en la ciudad de Santiago\n",
    "de Compostela desde Octubre-2019 hasta Febrero-2020 (ambos incluidos).\n",
    "\n",
    "**NOTA**: Al tratarse de un problema real las mediciones realizadas a partir de Marzo-2020 se han visto afectadas por\n",
    "las restricciones sanitarias a causa del COVID-19, es por eso que no se tomarán en cuenta las mediciones a partir\n",
    "de dicha fecha.\n",
    "\n",
    "Ahora veamos cómo son los datos:"
   ],
   "metadata": {
    "collapsed": false
   }
  },
  {
   "cell_type": "code",
   "execution_count": null,
   "outputs": [],
   "source": [
    "df.head()"
   ],
   "metadata": {
    "collapsed": false,
    "pycharm": {
     "name": "#%%\n"
    }
   }
  },
  {
   "cell_type": "markdown",
   "source": [
    "Las columnas del dataset son las siguientes:\n",
    "* `_id` (Integer): Identificador de la medición dentro del mes\n",
    "* `speed` (Integer): NA\n",
    "* `sensor` (String): Nombre del sensor que realizó la medición\n",
    "* `flow` (Integer): Su valor entre 12 muestra el número de vehículos que pasaron sobre el sensor en los últimos 5 minutos\n",
    "* `FID` (String): Identificador de la medición global -> PRIMARY KEY\n",
    "* `datetime` (Timestamp): Fecha y hora en la que se tomó la medición.\n",
    "Cada sensor inserta una nueva medición cada 5 minutos"
   ],
   "metadata": {
    "collapsed": false
   }
  },
  {
   "cell_type": "code",
   "execution_count": null,
   "outputs": [],
   "source": [
    "df.shape"
   ],
   "metadata": {
    "collapsed": false,
    "pycharm": {
     "name": "#%%\n"
    }
   }
  },
  {
   "cell_type": "markdown",
   "source": [
    "Hay un total de **2904410 mediciones** y **6 columnas**.\n",
    "\n",
    "Algunos datos interesantes sobre el dataset:"
   ],
   "metadata": {
    "collapsed": false
   }
  },
  {
   "cell_type": "code",
   "execution_count": null,
   "outputs": [],
   "source": [
    "df.describe().transpose()"
   ],
   "metadata": {
    "collapsed": false,
    "pycharm": {
     "name": "#%%\n"
    }
   }
  },
  {
   "cell_type": "markdown",
   "source": [
    "El max de `flow` y por ende el de `car_count` no parece un número muy normal, y menos\n",
    "tratándose de una ciudad como Santiago de Compostela, dónde es imposible que circulen 8333\n",
    "vehículos sobre un sensor en 5 minutos:"
   ],
   "metadata": {
    "collapsed": false
   }
  },
  {
   "cell_type": "code",
   "execution_count": null,
   "outputs": [],
   "source": [
    "df.boxplot(column=['flow'])"
   ],
   "metadata": {
    "collapsed": false,
    "pycharm": {
     "name": "#%%\n"
    }
   }
  },
  {
   "cell_type": "code",
   "execution_count": null,
   "outputs": [],
   "source": [
    "bad_flow = df.loc[df['flow'] == 99999]\n",
    "len(bad_flow)"
   ],
   "metadata": {
    "collapsed": false,
    "pycharm": {
     "name": "#%%\n"
    }
   }
  },
  {
   "cell_type": "markdown",
   "source": [
    "Hay 31 mediciones con un valor erróneo para la columna `flow`: **Es necesario arreglar estos valores extremos!**"
   ],
   "metadata": {
    "collapsed": false
   }
  },
  {
   "cell_type": "markdown",
   "source": [
    "## Procesamiento del dataset\n",
    "\n",
    "Algunos de los datos del dataset no interesan, bien porque su valor no es válido (`speed`) o bien porque\n",
    "son simples identificadores (`_id` y `FID`). También se deberán formatear otras columnas:"
   ],
   "metadata": {
    "collapsed": false
   }
  },
  {
   "cell_type": "code",
   "execution_count": null,
   "outputs": [],
   "source": [
    "df.pop('speed')\n",
    "df.pop('FID')\n",
    "df.pop('_id')\n",
    "\n",
    "df.loc[:,'datetime'] = pd.to_datetime(df.loc[:,'datetime'], format='%Y-%m-%dT%H:%M:%S')\n",
    "\n",
    "df['car_count'] = df.loc[:, 'flow'].div(12)"
   ],
   "metadata": {
    "collapsed": false,
    "pycharm": {
     "name": "#%%\n"
    }
   }
  },
  {
   "cell_type": "code",
   "execution_count": null,
   "outputs": [],
   "source": [
    "df.head()"
   ],
   "metadata": {
    "collapsed": false,
    "pycharm": {
     "name": "#%%\n"
    }
   }
  },
  {
   "cell_type": "markdown",
   "source": [
    "Acciones realizadas:\n",
    "1. La columna `speed` no aporta nada, todos su valores son -9999\n",
    "2. La columna `FID` tampoco, es un identificador de cada medición, al igual que `_id`\n",
    "3. La columna `datetime` tuvo que ser formateada para obtener un formato válido\n",
    "4. La columna `flow` es útil, pero es más interesante conocer el número de vehículos que\n",
    " pasaron sobre el sensor en los últimos 5 minutos: `car_count`\n",
    "\n",
    "Seleccionemos 5 mediciones al azar:"
   ],
   "metadata": {
    "collapsed": false
   }
  },
  {
   "cell_type": "code",
   "execution_count": null,
   "outputs": [],
   "source": [
    "df.sample(n=5, random_state=12)"
   ],
   "metadata": {
    "collapsed": false,
    "pycharm": {
     "name": "#%%\n"
    }
   }
  },
  {
   "cell_type": "markdown",
   "source": [
    "Veamos algunas estadísticas del conjunto de datos:"
   ],
   "metadata": {
    "collapsed": false
   }
  },
  {
   "cell_type": "code",
   "execution_count": null,
   "outputs": [],
   "source": [
    "df.describe().transpose()"
   ],
   "metadata": {
    "collapsed": false,
    "pycharm": {
     "name": "#%%\n"
    }
   }
  },
  {
   "cell_type": "markdown",
   "source": [
    "Como ya se comentó en la sección anterior, existen 31 outlayers claros ( valor 99999.0 en la columna `flow`) que deben\n",
    "ser eliminados:"
   ],
   "metadata": {
    "collapsed": false
   }
  },
  {
   "cell_type": "code",
   "execution_count": null,
   "outputs": [],
   "source": [
    "df = df[df['flow'] != 99999.0]\n",
    "df = df[df['car_count'] != 8333.25]"
   ],
   "metadata": {
    "collapsed": false,
    "pycharm": {
     "name": "#%%\n"
    }
   }
  },
  {
   "cell_type": "markdown",
   "source": [
    "Podemos ver que ya no hay ninguna fila con `flow == 99999.0`:"
   ],
   "metadata": {
    "collapsed": false
   }
  },
  {
   "cell_type": "code",
   "execution_count": null,
   "outputs": [],
   "source": [
    "bad_flow = df.loc[df['flow'] == 99999.0]\n",
    "len(bad_flow)"
   ],
   "metadata": {
    "collapsed": false,
    "pycharm": {
     "name": "#%%\n"
    }
   }
  },
  {
   "cell_type": "markdown",
   "source": [
    "Revisando de nuevo las estadísticas del dataset:"
   ],
   "metadata": {
    "collapsed": false
   }
  },
  {
   "cell_type": "code",
   "execution_count": null,
   "outputs": [],
   "source": [
    "df.describe().transpose()\n"
   ],
   "metadata": {
    "collapsed": false,
    "pycharm": {
     "name": "#%%\n"
    }
   }
  },
  {
   "cell_type": "code",
   "execution_count": null,
   "outputs": [],
   "source": [
    "df.boxplot(column=['flow'])"
   ],
   "metadata": {
    "collapsed": false,
    "pycharm": {
     "name": "#%%\n"
    }
   }
  },
  {
   "cell_type": "markdown",
   "source": [
    "A simple vista no se ven outlayers tan claros como anteriormente. Debido a que `flow` solo resulta de interés para\n",
    "calcular `car_count`, esta característica puede ser eliminada ya del dataset."
   ],
   "metadata": {
    "collapsed": false
   }
  },
  {
   "cell_type": "code",
   "execution_count": null,
   "outputs": [],
   "source": [
    "df.pop('flow')"
   ],
   "metadata": {
    "collapsed": false,
    "pycharm": {
     "name": "#%%\n"
    }
   }
  },
  {
   "cell_type": "markdown",
   "source": [
    "## Experimentos planteados\n",
    "\n",
    "Los experimentos a realizar consisten en predecir el tráfico en el punto en el que se ubica el\n",
    "sensor `PM072` (CITIUS) en un instante `t` a partir de las mediciones realizadas por otros\n",
    "sensores en un instante `t-x`. Los experimentos contemplados son los siguientes:\n",
    "\n",
    "1. Predecir en `PM072` a partir de:\n",
    "    - `PM029` (Entrada túnel Romero Donallo)\n",
    "    - **No es posible, ya que es sensor estaba averiado** - `PM034`(Rotonda Camiño Novo - Avda. Mestre Mateo)\n",
    "\n",
    "2. Predecir en `PM072` a partir de:\n",
    "    - `PM024` (Rotonda Camiño Novo - Avda. Romero Donallo)\n",
    "    - `PM030` (Avda. Rosalía de Castro - Rotonda Camiño Novo)\n",
    "    - `PM031` (Avda. Romero Donallo - Rotonda Camiño Novo)\n",
    "    - `PM032` (Avda. Rosalía de Castro - Rotonda Camiño Novo)\n",
    "    - **No es posible, ya que es sensor estaba averiado** -`PM033` (Avda. Mestre Mateo - Rotonda Camiño Novo)\n",
    "\n",
    "3. Predecir en `PM072` a partir de:\n",
    "    - `PM020` (Rotonda Galuresa - Avda. Romero Donallo)\n",
    "    - `PM076` (Rúa do Horreo - Rotonda Galuresa)\n",
    "    - `PM077` (Avda. Romero Donallo - Rotonda Galuresa)\n",
    "    - `PM079` (Rúa do Horreo - Rotonda Galuresa)\n",
    "\n",
    "4. Predecir en `PM072` a partir de:\n",
    "    - Todos los sensores disponibles\n",
    "\n",
    "Para cada uno de los experimentos anteriormente citados se llevará a cabo la implementación del modelo con:\n",
    "* Perceptrón multicapa\n",
    "* Red Neuronal Convolucional (CNN)\n",
    "* Red Neuronal Recurrente (RNN)\n",
    "\n",
    "Asimismo, se deberá realizar un análisis de la varianza y bias para cada experimento\n",
    "(Ver 6 primeras semanas Machine Learning Stanford: https://www.coursera.org/learn/machine-learning)\n",
    "\n",
    "Por otra parte, también se probarán diversas formas de incluir las marcas temporales (timestamps) en el modelo:\n",
    "* Día de la semana (1-7) y hora del día (minutos)\n",
    "* Día de la semana y hora del día *modelado con sin y cos*\n",
    "* Ventanas temporales (¿?)"
   ],
   "metadata": {
    "collapsed": false
   }
  },
  {
   "cell_type": "markdown",
   "source": [
    "## Experimento #1\n",
    "\n",
    "Tal y como se indicó en el apartado `Experimentos`, en el **Experimento #1** se tratará de predecir\n",
    "el tráfico en el punto en el que se ubica el sensor `PM072` (CITIUS) en un instante t a partir de\n",
    "las mediciones realizadas en un instante `t-x` por los sensores:\n",
    "* `PM029` (Entrada túnel Romero Donallo)\n",
    "* **No es posible, ya que es sensor estaba averiado** - `PM034`(Rotonda Camiño Novo - Avda. Mestre Mateo)\n",
    "\n",
    "\n",
    "### Análisis dataset Experimento #1\n",
    "\n",
    "En primer lugar, hay que obtener solo aquellas mediciones que hayan sido tomadas por los sensores que resultan\n",
    "de interés para el experimento:"
   ],
   "metadata": {
    "collapsed": false
   }
  },
  {
   "cell_type": "code",
   "execution_count": null,
   "outputs": [],
   "source": [
    "sensors_list = ['PM029', 'PM072']\n",
    "df_1 = df.loc[df['sensor'].isin(sensors_list)]"
   ],
   "metadata": {
    "collapsed": false,
    "pycharm": {
     "name": "#%%\n"
    }
   }
  },
  {
   "cell_type": "markdown",
   "source": [
    "Al igual que antes, veamos algunas estadísticas sobre este conjunto:"
   ],
   "metadata": {
    "collapsed": false
   }
  },
  {
   "cell_type": "code",
   "execution_count": null,
   "outputs": [],
   "source": [
    "df_1.describe().transpose()"
   ],
   "metadata": {
    "collapsed": false,
    "pycharm": {
     "name": "#%%\n"
    }
   }
  },
  {
   "cell_type": "markdown",
   "source": [
    "Veamos un boxplot:"
   ],
   "metadata": {
    "collapsed": false
   }
  },
  {
   "cell_type": "code",
   "execution_count": null,
   "outputs": [],
   "source": [
    "df_1.boxplot(column=['car_count'])"
   ],
   "metadata": {
    "collapsed": false,
    "pycharm": {
     "name": "#%%\n"
    }
   }
  },
  {
   "cell_type": "markdown",
   "source": [
    "No parece haber un outlayer muy claro como en el apartado `Descripción del dataset`. Hay que tener en cuenta que los datos\n",
    "que se encuentran fuera de la caja o de los brazos de la misma, no pueden ser considerados outlayers automáticamente.\n",
    "Al tratarse de mediciones de tráfico, es evidente que a ciertas horas del día (principalmente de madrugada), el número de\n",
    "coches registrado suele ser muy bajo incluso 0, por lo que la media y los cuartiles se encuentran afectados por estas\n",
    "medicones."
   ],
   "metadata": {
    "collapsed": false
   }
  },
  {
   "cell_type": "markdown",
   "source": [
    "### Análisis gráfico Experimento #1\n",
    "\n",
    "Para ver la evolución de los datos del tráfico de manera más intuitiva se realizarán una serie de representaciones\n",
    "gráficas.\n",
    "\n",
    "La siguiente función recibe un dataframe, una lista de días y el nombre de un sensor. Grafica todas las mediciones\n",
    "realizadas por ese sensor (agregados de 5 minutos) a lo largo de los días indicados"
   ],
   "metadata": {
    "collapsed": false
   }
  },
  {
   "cell_type": "code",
   "execution_count": null,
   "outputs": [],
   "source": [
    "def plot_sensors_daily_data(df_orig, days_list, sensor):\n",
    "\n",
    "    # Solo selecciono la información de ese sensor en el rango indicado\n",
    "    df = df_orig.loc[(df_orig['sensor'] == sensor)\n",
    "                     & (df_orig['datetime'] >= days_list[0])\n",
    "                     & (df_orig['datetime'] <= days_list[-1]+datetime.timedelta(days=1))]\n",
    "\n",
    "    fig, axs = plt.subplots(days_list.shape[0], figsize=(15,15))\n",
    "    fig.tight_layout(pad=5.0)\n",
    "    fig.suptitle('Data Sensor ' + sensor, fontsize=16)\n",
    "\n",
    "    for i in range(days_list.shape[0]):\n",
    "        x = df.loc[(df['datetime'] >= days_list[i]) & (df['datetime'] <= days_list[i]+datetime.timedelta(days=1)), 'datetime']\n",
    "        y = df.loc[(df['datetime'] >= days_list[i]) & (df['datetime'] <= days_list[i]+datetime.timedelta(days=1)), 'car_count']\n",
    "\n",
    "        myFmt = mdates.DateFormatter('%H:%M')\n",
    "        axs[i].xaxis.set_major_formatter(myFmt)\n",
    "        axs[i].set(xlabel='Hours', ylabel='Car count')\n",
    "        axs[i].set_title('Day: '+ days_list[i].strftime(\"%Y-%m-%d (%A)\"))\n",
    "\n",
    "        axs[i].plot(x, y)"
   ],
   "metadata": {
    "collapsed": false,
    "pycharm": {
     "name": "#%%\n"
    }
   }
  },
  {
   "cell_type": "markdown",
   "source": [
    "Podemos probar a pasarle los 7 días de una semana para ver como evoluciona el tráfico que pasa\n",
    "por ese sensor durante esa semana:"
   ],
   "metadata": {
    "collapsed": false
   }
  },
  {
   "cell_type": "code",
   "execution_count": null,
   "outputs": [],
   "source": [
    "days = pd.date_range(start='2019-10-07', end='2019-10-13', freq='D')\n",
    "plot_sensors_daily_data(df_orig=df_1, days_list = days, sensor='PM072')"
   ],
   "metadata": {
    "collapsed": false,
    "pycharm": {
     "name": "#%%\n"
    }
   }
  },
  {
   "cell_type": "markdown",
   "source": [
    "También podemos graficar los lunes (o cualquier día de la semana: W-SUN, W-FRI) que hubo en un mes:"
   ],
   "metadata": {
    "collapsed": false
   }
  },
  {
   "cell_type": "code",
   "execution_count": null,
   "outputs": [],
   "source": [
    "days = pd.date_range(start='2019-10-01', end='2019-10-31', freq='W-MON')\n",
    "plot_sensors_daily_data(df_orig=df_1, days_list = days, sensor='PM072')"
   ],
   "metadata": {
    "collapsed": false,
    "pycharm": {
     "name": "#%%\n"
    }
   }
  },
  {
   "cell_type": "markdown",
   "source": [
    "Las gráficas anteriores tienen mucho ruido, aunque resultan útiles para hacer una comprobación de outlayers.\n",
    "Sin embargo, para ver de una manera más directa si existe periodicidad en el tráfico es más interesante **representar\n",
    "los datos con agregados superiores a 5 minutos**\n",
    "\n",
    "La siguiente función recibe un dataframe, una lista de días, un valor `n` que indica el número de mediciones agregadas,\n",
    "y el nombre de un sensor. Grafica la media (mean) y desviación típica (std) de las mediciones realizadas durante el sensor\n",
    "durante esos días en **agregados de 5*n minutos**"
   ],
   "metadata": {
    "collapsed": false
   }
  },
  {
   "cell_type": "code",
   "execution_count": null,
   "outputs": [],
   "source": [
    "def plot_sensors_agregated_daily_data(df_orig, days_list, n, sensor):\n",
    "\n",
    "    # Solo selecciono la información de ese sensor en el rango indicado\n",
    "    df = df_orig.loc[(df_orig['sensor'] == sensor)\n",
    "                     & (df_orig['datetime'] >= days_list[0])\n",
    "                     & (df_orig['datetime'] <= days_list[-1]+datetime.timedelta(days=1))]\n",
    "\n",
    "    # Dataframe con los agregados\n",
    "    df_mean = pd.DataFrame(columns=df.columns)\n",
    "    df_std = pd.DataFrame(columns=df.columns)\n",
    "\n",
    "    for g, df_slice in df.groupby(np.arange(len(df)) // n):\n",
    "        mean_row = {'sensor': sensor, 'datetime': df_slice['datetime'].max(), 'car_count': df_slice['car_count'].mean()}\n",
    "        df_mean = df_mean.append(mean_row, ignore_index=True)\n",
    "\n",
    "        std_row = {'sensor': sensor, 'datetime': df_slice['datetime'].max(), 'car_count': df_slice['car_count'].std()}\n",
    "        df_std = df_std.append(std_row, ignore_index=True)\n",
    "\n",
    "    fig, axs = plt.subplots(days_list.shape[0], figsize=(15,15))\n",
    "    fig.tight_layout(pad=5.0)\n",
    "    fig.suptitle('Data Sensor ' + sensor, fontsize=16)\n",
    "\n",
    "    for i in range(days_list.shape[0]):\n",
    "        x = df_mean.loc[(df_mean['datetime'] >= days_list[i]) & (df_mean['datetime'] <= days_list[i]+datetime.timedelta(days=1)), 'datetime']\n",
    "        y_mean = df_mean.loc[(df_mean['datetime'] >= days_list[i]) & (df_mean['datetime'] <= days_list[i]+datetime.timedelta(days=1)), 'car_count']\n",
    "        y_std = df_std.loc[(df_std['datetime'] >= days_list[i]) & (df_std['datetime'] <= days_list[i]+datetime.timedelta(days=1)), 'car_count']\n",
    "\n",
    "        myFmt = mdates.DateFormatter('%H:%M')\n",
    "        axs[i].xaxis.set_major_formatter(myFmt)\n",
    "        axs[i].set(xlabel='Hours', ylabel='Car count')\n",
    "        axs[i].set_title('Day: '+ days_list[i].strftime(\"%Y-%m-%d (%A)\"))\n",
    "\n",
    "        axs[i].plot(x, y_mean, label='mean')\n",
    "        axs[i].plot(x, y_std, label='std')\n",
    "        axs[i].legend(loc=\"upper left\")"
   ],
   "metadata": {
    "collapsed": false,
    "pycharm": {
     "name": "#%%\n"
    }
   }
  },
  {
   "cell_type": "markdown",
   "source": [
    "Veamos la evolución del tráfico (media y desviación típica) durante una semana con agregados de 30 minutos (5*6)"
   ],
   "metadata": {
    "collapsed": false
   }
  },
  {
   "cell_type": "code",
   "execution_count": null,
   "outputs": [],
   "source": [
    "days = pd.date_range(start='2019-10-07', end='2019-10-13', freq='D')\n",
    "plot_sensors_agregated_daily_data(df_orig=df_1, days_list = days, n=6, sensor='PM072')"
   ],
   "metadata": {
    "collapsed": false,
    "pycharm": {
     "name": "#%%\n"
    }
   }
  },
  {
   "cell_type": "markdown",
   "source": [
    "Veamos la evolución del tráfico durante los lunes de un mes con agregados de 30 minutos (5*6)"
   ],
   "metadata": {
    "collapsed": false
   }
  },
  {
   "cell_type": "code",
   "execution_count": null,
   "outputs": [],
   "source": [
    "days = pd.date_range(start='2019-10-01', end='2019-10-31', freq='W-MON')\n",
    "plot_sensors_agregated_daily_data(df_orig=df_1, days_list = days, n=6, sensor='PM072')\n"
   ],
   "metadata": {
    "collapsed": false,
    "pycharm": {
     "name": "#%%\n"
    }
   }
  },
  {
   "cell_type": "markdown",
   "source": [
    "### Preparación dataset Experimento #1\n",
    "\n",
    "#### Label PM072\n",
    "\n",
    "El objetivo del Experimento #1 es predecir el tráfico en el punto en el que se ubica el sensor `PM072` (CITIUS)\n",
    "en un instante `t` a partir de las mediciones realizadas en un instante `t-x` por el sensor `PM029`.\n",
    "\n",
    "A cualquier modelo es necesario pasarle un vector de características con el que pueda trabajar. En este caso, el vector\n",
    "de características tiene la siguiente forma:"
   ],
   "metadata": {
    "collapsed": false
   }
  },
  {
   "cell_type": "code",
   "execution_count": null,
   "outputs": [],
   "source": [
    "column_names = [\"datetime\", \"car_count_PM029\", \"label_PM072\"]\n",
    "pd.DataFrame(columns = column_names)"
   ],
   "metadata": {
    "collapsed": false,
    "pycharm": {
     "name": "#%%\n"
    }
   }
  },
  {
   "cell_type": "markdown",
   "source": [
    "Es decir, para cada instante temporal (`datetime`) que hay en el dataset, debe haber un vector de características que\n",
    "contenga dicho instante temporal y el valor medido por los sensores que se usarán para predecir. Asimismo, también debe\n",
    "contener el valor medido por el sensor `PM072` `x minutos` después.\n",
    "\n",
    "Los sensores pueden fallar o detenerse por labores de mantenimiento, por lo que es posible que en algún instante temporal\n",
    "uno de los sensores tome una medición y otro no, quedando así el vector de características incompleto. Esto no puede\n",
    "permitirse, por lo que **si falta una medición de un sensor para un determinado instante temporal, todas las mediciones\n",
    "correspondientes a dicho instante deben ser eliminadas.**\n",
    "\n",
    "Para facilitar la preparación del dataset se ha creado la siguiente función. Recibe el dataset original, la lista de sensores\n",
    "que se usarán para predecir, el sensor en el que se quiere predecir y los `x minutos` de desfase temporal.\n"
   ],
   "metadata": {
    "collapsed": false
   }
  },
  {
   "cell_type": "code",
   "execution_count": null,
   "outputs": [],
   "source": [
    "def prepare_df(df_orig, sensors_list, label_sensor, x):\n",
    "    # Lista de todos los instantes temporales del primer sensor de la lista\n",
    "    date_time = df_orig.loc[df_orig['sensor'] == sensors_list[0], 'datetime']\n",
    "\n",
    "    # Instante temporal y car_count de dicho sensor\n",
    "    prepared_df = df_orig.loc[ (df_orig['datetime'].isin(date_time)) &  (df_orig['sensor'] == sensors_list[0]), ['datetime', 'car_count']]\n",
    "    # Renombrar la columna car_count\n",
    "    prepared_df.rename(columns={'car_count': 'car_count_' + sensors_list[0]}, inplace=True)\n",
    "\n",
    "    # Join con los datos de cada sensor de la lista (sin contar el primero)\n",
    "    for ss in sensors_list[1:]:\n",
    "        aux = df_orig.loc[ (df_orig['datetime'].isin(date_time)) &  (df_orig['sensor'] == ss), ['datetime', 'car_count']]\n",
    "        aux.rename(columns={'car_count': 'car_count_' + ss}, inplace=True)\n",
    "        prepared_df = pd.merge(prepared_df, aux, on='datetime', how='outer')\n",
    "\n",
    "    # Obtengo los datos del sensor a predecir x minutos despues\n",
    "    aux = df_orig.loc[ (df_orig['datetime'].isin(date_time+datetime.timedelta(minutes=x))) &  (df_orig['sensor'] == label_sensor), ['datetime', 'car_count']]\n",
    "    # Resto los x minutos de para poder hacer el JOIN y MANTENIENDO EL CAR_COUNT que interesa\n",
    "    aux['datetime'] = aux['datetime'] - datetime.timedelta(minutes=x)\n",
    "    aux.rename(columns={'car_count': 'label_' + label_sensor}, inplace=True)\n",
    "    prepared_df = pd.merge(prepared_df, aux, on='datetime', how='outer')\n",
    "\n",
    "    # Puede que haya NaN en algunas filas\n",
    "    prepared_df = prepared_df.dropna()\n",
    "\n",
    "    return prepared_df\n"
   ],
   "metadata": {
    "collapsed": false,
    "pycharm": {
     "name": "#%%\n"
    }
   }
  },
  {
   "cell_type": "markdown",
   "source": [
    "A continuación se utiliza la función para preparar el dataset para el Experimento #1:"
   ],
   "metadata": {
    "collapsed": false
   }
  },
  {
   "cell_type": "code",
   "execution_count": null,
   "outputs": [],
   "source": [
    "sensors_list = ['PM029']\n",
    "df_1 = prepare_df(df_1, sensors_list, label_sensor='PM072', x = 5)"
   ],
   "metadata": {
    "collapsed": false,
    "pycharm": {
     "name": "#%%\n"
    }
   }
  },
  {
   "cell_type": "code",
   "execution_count": null,
   "outputs": [],
   "source": [
    "df_1.sample()"
   ],
   "metadata": {
    "collapsed": false,
    "pycharm": {
     "name": "#%%\n"
    }
   }
  },
  {
   "cell_type": "markdown",
   "source": [
    "#### Tiempo\n",
    "\n",
    "Antes de construir un modelo es importante entender los datos con los que se trabaja y estar seguro que los datos\n",
    "que se le pasan al modelo está correctamente formateados.\n",
    "\n",
    "#### Horas del día\n",
    "La columna `datetime` resulta de gran importancia, pero no como una cadena. El primer paso es pasarla\n",
    "a segundos:"
   ],
   "metadata": {
    "collapsed": false
   }
  },
  {
   "cell_type": "code",
   "execution_count": null,
   "outputs": [],
   "source": [
    "date_time = df_1.loc[:, 'datetime']\n",
    "timestamp_s = date_time.map(datetime.datetime.timestamp)"
   ],
   "metadata": {
    "collapsed": false,
    "pycharm": {
     "name": "#%%\n"
    }
   }
  },
  {
   "cell_type": "markdown",
   "source": [
    "El tiempo en segundos no resulta muy útil como input para el modelo. Está claro que la periodicidad del tráfico es diaria.\n",
    "\n",
    "Para convertir el tiempo en una señal usable se puede usar el seno y el coseno:"
   ],
   "metadata": {
    "collapsed": false
   }
  },
  {
   "cell_type": "code",
   "execution_count": null,
   "outputs": [],
   "source": [
    "seconds_in_day = 24*60*60\n",
    "df_1['hour_sin'] = np.sin(timestamp_s * (2 * np.pi / seconds_in_day))\n",
    "df_1['hour_cos'] = np.cos(timestamp_s * (2 * np.pi / seconds_in_day))"
   ],
   "metadata": {
    "collapsed": false,
    "pycharm": {
     "name": "#%%\n"
    }
   }
  },
  {
   "cell_type": "markdown",
   "source": [
    "De esta manera logramos modelar las horas como en un reloj, las 00h y están a continuación de las 23h.\n",
    "\n",
    "La gráfica correspondiente al primer día del dataset es la siguiente ([:288] porque cada hora hay 12 mediciones * 24h = 288):"
   ],
   "metadata": {
    "collapsed": false
   }
  },
  {
   "cell_type": "code",
   "execution_count": null,
   "outputs": [],
   "source": [
    "plt.plot(df_1[ 'hour_sin'][:288], label = 'hour_sin')\n",
    "plt.plot(df_1['hour_cos'][:288], label = 'hour_cos')\n",
    "plt.legend(loc=\"upper left\")\n",
    "plt.xlabel('12*24 = 288 mediciones diarias')\n",
    "plt.title('Time of day signal')"
   ],
   "metadata": {
    "collapsed": false,
    "pycharm": {
     "name": "#%%\n"
    }
   }
  },
  {
   "cell_type": "markdown",
   "source": [
    "Si solamente nos fijamos en el seno, al trazar una línea horizontal se cruza en dos puntos, por lo que sólo teniendo\n",
    "en cuenta esta característica, las 00:00h y las 12:00h son lo mismo. Para solucionar esto tenemos el coseno, con ambas\n",
    "características ya podemos distinguir esas horas y todo codificado de manera cíclica!\n",
    "\n",
    "Una forma más intuitiva de ver lo que acabamos de hacer es representar ambas características como si se tratase un reloj:"
   ],
   "metadata": {
    "collapsed": false
   }
  },
  {
   "cell_type": "code",
   "execution_count": null,
   "outputs": [],
   "source": [
    "df_1[:288].plot.scatter('hour_sin','hour_cos').set_aspect('equal');"
   ],
   "metadata": {
    "collapsed": false,
    "pycharm": {
     "name": "#%%\n"
    }
   }
  },
  {
   "cell_type": "markdown",
   "source": [
    "**Comentario personal:** Fíjate en las tablas a continuación que, evidentemente,\n",
    "hour_sin` y  `hour_cos` son iguales para 2019-10-01 00:00:00 y 2019-10-02 00:00:00.\n",
    "Como nos interesa que también se tenga en cuenta el día de la semana tenemos que hacer algo más!!"
   ],
   "metadata": {
    "collapsed": false
   }
  },
  {
   "cell_type": "code",
   "execution_count": null,
   "outputs": [],
   "source": [
    "df_1[:2]\n"
   ],
   "metadata": {
    "collapsed": false,
    "pycharm": {
     "name": "#%%\n"
    }
   }
  },
  {
   "cell_type": "code",
   "execution_count": null,
   "outputs": [],
   "source": [
    "df_1[288:290]"
   ],
   "metadata": {
    "collapsed": false,
    "pycharm": {
     "name": "#%%\n"
    }
   }
  },
  {
   "cell_type": "markdown",
   "source": [
    "#### Días de la semana\n",
    "\n",
    "Tal y como hemos visto en las gráficas durante el `Análisis gráfico`, el tráfico tiene una clara frecuencia semanal.\n",
    "Se puede ver cómo las gráficas de cada uno de los lunes (por ejemplo) son muy similares. Esto es algo que nos interesa\n",
    "que nuestro modelo conozca, por lo que tenemos que realizar un trabajo similar al que hemos realizado con las horas.\n",
    "*Los días de la semana también son cíclicos!*"
   ],
   "metadata": {
    "collapsed": false
   }
  },
  {
   "cell_type": "code",
   "execution_count": null,
   "outputs": [],
   "source": [
    "df_1['week_day'] = df_1['datetime'].dt.weekday\n",
    "days_in_week = 7 # dt.weekday asigna valores del 0 (Lunes) al 6 (Domingo)\n",
    "df_1['wday_sin'] = np.sin(df_1['week_day'] * (2 * np.pi / days_in_week))\n",
    "df_1['wday_cos'] = np.cos(df_1['week_day'] * (2 * np.pi / days_in_week))"
   ],
   "metadata": {
    "collapsed": false,
    "pycharm": {
     "name": "#%%\n"
    }
   }
  },
  {
   "cell_type": "markdown",
   "source": [
    "Nuevamente, en una representación circular, vemos los 7 días de la semana:"
   ],
   "metadata": {
    "collapsed": false
   }
  },
  {
   "cell_type": "code",
   "execution_count": null,
   "outputs": [],
   "source": [
    "df_1[:2100].plot.scatter('wday_sin','wday_cos').set_aspect('equal');"
   ],
   "metadata": {
    "collapsed": false,
    "pycharm": {
     "name": "#%%\n"
    }
   }
  },
  {
   "cell_type": "markdown",
   "source": [
    "**Comentario personal:** Cada uno de los 7 puntos que vemos contiene 288 puntos (hay 288 mediciones cada día).\n",
    "En la siguiente tabla podemos ver como cada día de la semana (del 0 al 6) tiene un `wday_sin` y `wday_cos` diferente!!"
   ],
   "metadata": {
    "collapsed": false
   }
  },
  {
   "cell_type": "code",
   "execution_count": null,
   "outputs": [],
   "source": [
    "df_1[0:2000:288]\n"
   ],
   "metadata": {
    "collapsed": false,
    "pycharm": {
     "name": "#%%\n"
    }
   }
  },
  {
   "cell_type": "markdown",
   "source": [
    "#### Características auxiliares/extra\n",
    "\n",
    "Durante la preparación se utilizaron/crearon columnas extra en el dataset que no aportarán nada a nuestro modelo,\n",
    "las cuales deben sen eliminadas:"
   ],
   "metadata": {
    "collapsed": false
   }
  },
  {
   "cell_type": "code",
   "execution_count": null,
   "outputs": [],
   "source": [
    "df_1.pop('datetime')\n",
    "df_1.pop('week_day')\n",
    "df_1.sample(n=1)"
   ],
   "metadata": {
    "collapsed": false,
    "pycharm": {
     "name": "#%%\n"
    }
   }
  },
  {
   "cell_type": "markdown",
   "source": [
    "#### Dataset final para Experimento #1\n",
    "\n",
    "Finalmente el dataset contiene:\n",
    "1. `car_count_PM029`: Número de coches que pasaron por el sensor en los últimos 5 minutos\n",
    "2. `label_PM072`: El dato a predecir\n",
    "4. `hour_sin` y `hour_cos`: Hora del día codificada\n",
    "5. `wday_sin` y `wday_cos`: Día de la semana codificado\n",
    "\n",
    "\n",
    "Para facilitar los siguientes experimentos se ha creado la función `encode_time`, que hará lo comentado anteriormente:"
   ],
   "metadata": {
    "collapsed": false
   }
  },
  {
   "cell_type": "code",
   "execution_count": null,
   "outputs": [],
   "source": [
    "def encode_time_sin_cos(enc_df):\n",
    "\n",
    "    date_time = enc_df.loc[:, 'datetime']\n",
    "    timestamp_s = date_time.map(datetime.datetime.timestamp)\n",
    "\n",
    "    seconds_in_day = 24*60*60\n",
    "    enc_df['hour_sin'] = np.sin(timestamp_s * (2 * np.pi / seconds_in_day))\n",
    "    enc_df['hour_cos'] = np.cos(timestamp_s * (2 * np.pi / seconds_in_day))\n",
    "\n",
    "    enc_df['week_day'] = enc_df['datetime'].dt.weekday\n",
    "    days_in_week = 7 # dt.weekday asigna valores del 0 (Lunes) al 6 (Domingo)\n",
    "    enc_df['wday_sin'] = np.sin(enc_df['week_day'] * (2 * np.pi / days_in_week))\n",
    "    enc_df['wday_cos'] = np.cos(enc_df['week_day'] * (2 * np.pi / days_in_week))\n",
    "\n",
    "    enc_df.pop('datetime')\n",
    "    enc_df.pop('week_day')\n",
    "    enc_df.sample(n=1)\n",
    "\n",
    "    return enc_df\n",
    "\n",
    "def encode_time(enc_df):\n",
    "\n",
    "    enc_df['week_day'] = enc_df['datetime'].dt.weekday\n",
    "    enc_df['hour'] = enc_df['datetime'].dt.hour\n",
    "    enc_df['min'] = enc_df['datetime'].dt.minute\n",
    "\n",
    "    enc_df.pop('datetime')\n",
    "\n",
    "    return enc_df"
   ],
   "metadata": {
    "collapsed": false,
    "pycharm": {
     "name": "#%%\n"
    }
   }
  },
  {
   "cell_type": "markdown",
   "source": [
    "#### División del dataset\n",
    "\n",
    "Es necesario dividir el dataset en los conjuntos de:\n",
    "* Entrenamiento: `90%`\n",
    "* Validación: `10%` (Dentro del de Entrenamiento)\n",
    "* Test: `10%`\n",
    "\n",
    "**Para evitar problemas con la distribución de las mediciones es necesario hacer un `shuffle`\n",
    "(reordenamiento aleatorio del dataset) antes de dividirlo.**"
   ],
   "metadata": {
    "collapsed": false
   }
  },
  {
   "cell_type": "code",
   "execution_count": null,
   "outputs": [],
   "source": [
    "#Shuffle\n",
    "df_1=df_1.sample(frac=1).reset_index(drop=True)\n",
    "\n",
    "n = len(df_1)\n",
    "train_df_1 = df_1[0:int(n*0.90)]\n",
    "test_df_1 = df_1[int(n*0.90):]"
   ],
   "metadata": {
    "collapsed": false,
    "pycharm": {
     "name": "#%%\n"
    }
   }
  },
  {
   "cell_type": "markdown",
   "source": [
    "#### Separación de las 'features' y 'labels'\n",
    "\n",
    "Debemos separar las características del dato a predecir (`label_PM072`) en ambos conjuntos:"
   ],
   "metadata": {
    "collapsed": false
   }
  },
  {
   "cell_type": "code",
   "execution_count": null,
   "outputs": [],
   "source": [
    "train_labels = train_df_1.pop('label_PM072')\n",
    "train_features = train_df_1\n",
    "\n",
    "test_labels = test_df_1.pop('label_PM072')\n",
    "test_features = test_df_1\n"
   ],
   "metadata": {
    "collapsed": false,
    "pycharm": {
     "name": "#%%\n"
    }
   }
  },
  {
   "cell_type": "markdown",
   "source": [
    "#### Normalización de los datos\n",
    "\n",
    "Normalizar los datos es un paso importante para lograr un buen modelo, ya que\n",
    "ayuda a que el descenso de gradiente pueda converger de manera más rápida.\n",
    "\n",
    "La normalización debe realizarse tras la `División del dataset` y **utilizando solamente los datos de conjunto\n",
    "de entrenamiento.** Esto de sebe a que el conjunto de test juega el papel de datos que aún no han sido vistos,\n",
    "usar información procedente de estos datos para la normalización de todo el conjunto daría lugar a un *sesgo*\n",
    "durante la evaluación del desempeño del modelo."
   ],
   "metadata": {
    "collapsed": false
   }
  },
  {
   "cell_type": "code",
   "execution_count": null,
   "outputs": [],
   "source": [
    "train_mean = train_features.mean()\n",
    "train_std = train_features.std()\n",
    "\n",
    "train_features = (train_features - train_mean) / train_std\n",
    "test_features = (test_features - train_mean) / train_std"
   ],
   "metadata": {
    "collapsed": false,
    "pycharm": {
     "name": "#%%\n"
    }
   }
  },
  {
   "cell_type": "code",
   "execution_count": null,
   "outputs": [],
   "source": [
    "train_features"
   ],
   "metadata": {
    "collapsed": false,
    "pycharm": {
     "name": "#%%\n"
    }
   }
  },
  {
   "cell_type": "markdown",
   "source": [
    "### Implementación Perceptrón Multicapa\n",
    "\n",
    "### Definición Perceptrón Multicapa (LUEGO EN LA MEMORIA VA EN OTRA SECCIÓN!!!)\n",
    "\n",
    "El cerebro humano es un sistema sumamente complejo, no lineal y que proceso información de forma paralela. Durante años,\n",
    "el ser humano ha tratado de replicar este funcionamiento mediante un modelo matemático, enseñando a un ordenador\n",
    "a pensar y actuar como un humano en diferentes escenarios. Esta inspiración dio lugar a lo que hoy conocemos como redes\n",
    "neuronales artificiales.\n",
    "\n",
    "En [REFERENCIA Kevin Gurney] se define una red neuronal como prosigue: \"Una red neuronal es una reunión interconectada\n",
    "de elementos de procesamiento simples, *unidades* o *nodos*\", cuya funcionalidad está basada en líneas generales en la\n",
    "neurona animal. La habilidad de procesamiento de la red se almacena en las fuerzas, o *pesos*, de las conexiones entre\n",
    "las unidades, obtenidas mediante un proceso de adaptación, o *aprendizaje*, de un conjunto de patrones de entrenamiento.\"\n",
    "\n",
    "En la Figura [REFERENCIA Figura PERCEPTRÓN], se puede observar la representación comúnmente adoptada de la estructura básica de una\n",
    "red neuronal, también conocida como *perceptrón*. El perceptrón recibe una o varias entradas, las cuales son ponderadas a\n",
    "partir de unos *pesos*, y calcula la salida a través de una función de activación, concepto que se tratará más adelante.\n",
    "[FIGURA PERCEPTRÓN]\n",
    "\n",
    "Mediante la combinación de múltiples estructuras como la anteriormente mostrada, se puede crear una red neuronal más compleja,\n",
    "conocida como *perceptrón multicapa*. La Figura [REFERENCIA Figura PERCEPTRÓN MULTICAPA] muestra un perceptrón multicapa\n",
    "con una capa de entrada, una oculta y una de salida.\n",
    "[FIGURA PERCEPTRÓN MULTICAPA]\n",
    "\n",
    "En una red neuronal, las capas que se encuentran entre la capa de entrada y la de salida son conocidas como *capas ocultas*.\n",
    "Las unidades que componen dichas capas ocultas se denominan *unidades ocultas*. En el anterior ejemplo, cada una de\n",
    "estas unidades intermedias recibe el resultado de realizar la suma ponderada de cada una de las entradas y genera una salida\n",
    "aplicando una función de activación. Asimismo, la capa de salida recibe la suma ponderada de los resultados producidos por cada\n",
    "una de las unidades ocultas y genera la salida de la red aplicando una función de activación. Las ecuaciones correspondientes\n",
    "al funcionamiento anteriormente descrito se muestran a continuación:\n",
    "[ECUACIONES]\n",
    "\n",
    "El perceptrón multicapa es la arquitectura más simple de red neuronal artificial. En secciones posteriores se tratarán otras\n",
    "arquitecturas más complejas.\n",
    "\n",
    "### Conceptos básicos\n",
    "\n",
    "En esta sección se tratarán algunos de los conceptos básicos que son necesarios para la correcta comprensión\n",
    "de lo expuesto más adelante.\n",
    "\n",
    "#### Función de activación\n",
    "\n",
    "La función de activación es la transformación que aplica una unidad a la entrada que recibe, añadiendo de esta manera\n",
    "no-linealidad a la red, lo que permite que aprenda transformaciones complejas.\n",
    "\n",
    "Caglar [REFERENCIA CAGLAR] define una función de activación como \"una función g: R->R que es diferenciable casi en\n",
    "cualquier punto\". Algunas de las funciones de activación más utilizadas son:\n",
    "\n",
    "* *Sigmoid*: [DEFINICIÓN].  Esta función aparece en la capa de salida y se usa para predecir probabilidad, ya que proporciona\n",
    "valores comprendidos entre 0 y 1. Es muy común en problemas de clasificación binaria y modelado de regresiones logísticas [REFERENCIA Chigozie].\n",
    "\n",
    "* *Hyperbolic Tangent (Tanh)*: [DEFINICIÓN]. Devuelve valores entre 1 y -1 con media cero, lo que ayuda al proceso de\n",
    "*backpropagation*. Esta función se usa mayormente en problemas de procesamiento de lenguaje natural y\n",
    "reconocimiento de voz [REFERENCIA Chigozie].\n",
    "\n",
    "* *ReLU*: [DEFINICIÓN]. En [REFERENCIA BINB DING] se recoge un compendio de ventajas de esta función, entre los que cabe destacar:\n",
    "    * Los cálculos realizados con ReLU son menos costosos que los de Sigmoid o Tanh, ya que no es necesario trabajar\n",
    "    con funciones exponenciales.\n",
    "    * Las redes neuronales que utilizan ReLu convergen más rápido en términos de tiempo de entrenamiento con descenso de gradiente.\n",
    "\n",
    "En conclusión, las funciones de activación son un pilar fundamental de las redes neuronales y deben seleccionarse en función\n",
    "del problema que se afronte.\n",
    "\n",
    "#### Función de coste\n",
    "\n",
    "La función de coste es la función objetivo que se pretende minimizar durante el entrenamiento de la red.\n",
    "Se encarga de medir la diferencia entre la salida real de nuestra red en un momento dado y la salida deseada.\n",
    "\n",
    "La función más utilizada es la de *Error Cuadrático Medio (MSE)*, la cual mide la distancia entre la salida deseada y\n",
    "la hipótesis y la eleva al cuadrado. La definición de dicha función es la siguiente: [DEFINICIÓN]\n",
    "\n",
    "\n",
    "#### Forward Propagation\n",
    "\n",
    "Se trata de las operaciones del conjunto de ecuaciones que permiten realizar los cálculos necesarios en las unidades de la red\n",
    "para obtener una salida a partir de una determinada entrada.\n",
    "\n",
    "\n",
    "#### Back Propagation\n",
    "\n",
    "Hablar del descenso de gradiente\n",
    "ACABAR...\n",
    "\n",
    "\n",
    "\n",
    "#### Hiperparámetros\n",
    "\n",
    "Los hiperparámetros son aquellos parámetros que cuyo valor es utilizado para controlar el proceso de aprendizaje de una\n",
    "red neuronal. Se consideran parámetros de una red neuronal a los *pesos* de las conexiones, los cuales se derivan durante\n",
    "el entrenamiento.\n",
    "\n",
    "A continuación, se realiza un análisis de los principales hiperparámetros de la red:\n",
    "* *Dimensión de las características de entrada*:\n",
    "\n",
    "* *Número de capas ocultas*:\n",
    "\n",
    "* *Número de unidades por capa*:\n",
    "\n",
    "* *Factor de aprendizaje*:\n",
    "\n",
    "* *Optimizador*: El *Descenso de Gradiente* es uno de los algoritmos más populares para llevar a cabo optimización y es\n",
    "de largo el más utilizado para la optimización de redes neuronales [REFERENCIA SGD]. Existen tres variantes\n",
    "de este algoritmo: el Estocástico, el Batch y el Mini-Batch. Las cuales se diferencian en el número de ejemplos (*batch*)\n",
    "que se utilizan para calcular el gradiente de la función objetivo antes de actualizar los parámetros:\n",
    "    * *Batch gradient descent*: Utiliza todo el conjunto de entrenamiento antes de actualizar los parámetros.\n",
    "    * *Stochastic gradient descent*: Actualiza los parámetros para cada ejemplo.\n",
    "    * *Mini-batch gradient descent*: Actualiza los parámetros tras cada *n* ejemplos. Estos *n* ejemplos conforman el *mini-batch*\n",
    "\n",
    "Existen mejoras de estos algoritmos como pueden ser el *Stochastic gradient descent with Momentum* o *Adam*\n",
    "\n",
    "* *Épocas*:\n",
    "\n",
    "* *Dropout*:\n",
    "\n",
    "* *Regularización R2:*\n",
    "\n",
    "\n",
    "#### Metodología\n",
    "\n",
    "Como hago para escoger los hiperparámetros\n",
    "\n",
    "\n",
    "Nótese que en la función `model.fit` se incluye la opción `validation_split=0.1`. De esta\n",
    "manera se usará un `1O%` **de los datos del conjunto de entrenamiento para validación.**\n",
    "\n",
    "\n",
    "\n",
    "\n",
    "**HABLAR DE LA METODOLOGIA Y COMO HAGO PARA LA ARQUITECTURA Y LOS HIPERPARAMETOS**\n",
    "\n",
    "Escibir lo del papep que tengo guardado\n"
   ],
   "metadata": {
    "collapsed": false
   }
  },
  {
   "cell_type": "code",
   "execution_count": null,
   "outputs": [],
   "source": [
    "BATCH_SIZE = 64\n",
    "STEPS_PER_EPOCH = len(train_features) // BATCH_SIZE\n",
    "\n",
    "# Display training progress by printing a single dot for each completed epoch\n",
    "class PrintDot(tf.keras.callbacks.Callback):\n",
    "  def on_epoch_end(self, epoch, logs):\n",
    "    if epoch % 100 == 0: print('100')\n",
    "    print('.', end='')\n",
    "\n",
    "def get_callbacks():\n",
    "    return [\n",
    "        tf.keras.callbacks.EarlyStopping(monitor='val_loss', patience=50),\n",
    "        PrintDot()\n",
    "    ]\n",
    "\n",
    "lr_schedule = tf.keras.optimizers.schedules.InverseTimeDecay(\n",
    "  0.001,\n",
    "  decay_steps=STEPS_PER_EPOCH*100,\n",
    "  decay_rate=1,\n",
    "  staircase=False)\n",
    "\n",
    "\n",
    "def build_and_compile_model():\n",
    "  model = tf.keras.Sequential([\n",
    "      layers.Dense(16, activation='relu', input_shape=(len(train_features.columns),) ),\n",
    "      #layers.Dropout(0.5),\n",
    "      layers.Dense(8, activation='relu'),\n",
    "      #layers.Dropout(0.5),\n",
    "      layers.Dense(1)\n",
    "  ])\n",
    "\n",
    "  model.compile(\n",
    "        loss=tf.keras.losses.MeanSquaredError(),\n",
    "        optimizer=tf.keras.optimizers.Adam(0.001),\n",
    "        metrics=['mae']\n",
    "  )\n",
    "\n",
    "  return model"
   ],
   "metadata": {
    "collapsed": false,
    "pycharm": {
     "name": "#%%\n"
    }
   }
  },
  {
   "cell_type": "code",
   "execution_count": null,
   "outputs": [],
   "source": [
    "model = build_and_compile_model()\n",
    "model.summary()"
   ],
   "metadata": {
    "collapsed": false,
    "pycharm": {
     "name": "#%%\n"
    }
   }
  },
  {
   "cell_type": "code",
   "execution_count": null,
   "outputs": [],
   "source": [
    "%%time\n",
    "history = model.fit(\n",
    "    train_features,\n",
    "    train_labels,\n",
    "    validation_split=0.10,\n",
    "    verbose=0,\n",
    "    callbacks=get_callbacks(),\n",
    "    steps_per_epoch = STEPS_PER_EPOCH,\n",
    "    epochs=200\n",
    ")"
   ],
   "metadata": {
    "collapsed": false,
    "pycharm": {
     "name": "#%%\n"
    }
   }
  },
  {
   "cell_type": "code",
   "execution_count": null,
   "outputs": [],
   "source": [
    "hist = pd.DataFrame(history.history)\n",
    "hist['epoch'] = history.epoch\n",
    "hist.tail()"
   ],
   "metadata": {
    "collapsed": false,
    "pycharm": {
     "name": "#%%\n"
    }
   }
  },
  {
   "cell_type": "code",
   "execution_count": null,
   "outputs": [],
   "source": [
    "def plot_loss(history):\n",
    "    plt.plot(history.history['loss'], label='loss')\n",
    "    plt.plot(history.history['val_loss'], label='val_loss')\n",
    "    plt.ylim([20, 70])\n",
    "    plt.xlabel('Epoch')\n",
    "    plt.ylabel('Error')\n",
    "    plt.legend()\n",
    "    plt.grid(True)\n",
    "\n",
    "\n",
    "plot_loss(history)\n"
   ],
   "metadata": {
    "collapsed": false,
    "pycharm": {
     "name": "#%%\n"
    }
   }
  },
  {
   "cell_type": "code",
   "execution_count": null,
   "outputs": [],
   "source": [
    "model.predict(test_features[:10])"
   ],
   "metadata": {
    "collapsed": false,
    "pycharm": {
     "name": "#%%\n"
    }
   }
  },
  {
   "cell_type": "code",
   "execution_count": null,
   "outputs": [],
   "source": [
    "test_labels[:10]\n",
    "\n",
    "\n",
    "\n",
    "\n",
    "\n",
    "\n",
    "\n",
    "\n",
    "\n",
    "\n",
    "\n",
    "\n",
    "\n",
    "\n",
    "\n",
    "\n",
    "\n",
    "\n",
    "\n",
    "\n"
   ],
   "metadata": {
    "collapsed": false,
    "pycharm": {
     "name": "#%%\n"
    }
   }
  },
  {
   "cell_type": "markdown",
   "source": [
    "## Experimento #2\n",
    "\n",
    "Tal y como se indicó en el apartado `Experimentos`, en el **Experimento #2** se tratará de predecir\n",
    "el tráfico en el punto en el que se ubica el sensor `PM072` (CITIUS) en un instante t a partir de\n",
    "las mediciones realizadas en un instante `t-x` por los sensores:\n",
    "- `PM024` (Rotonda Camiño Novo - Avda. Romero Donallo)\n",
    "- `PM030` (Avda. Rosalía de Castro - Rotonda Camiño Novo)\n",
    "- `PM031` (Avda. Romero Donallo - Rotonda Camiño Novo)\n",
    "- `PM032` (Avda. Rosalía de Castro - Rotonda Camiño Novo)\n",
    "* **No es posible, ya que es sensor estaba averiado** - `PM033` (Avda. Mestre Mateo - Rotonda Camiño Novo)\n",
    "\n",
    "### Análisis dataset Experimento #2\n",
    "\n",
    "En primer lugar, hay que obtener solo aquellas mediciones que hayan sido tomadas por los sensores que resultan\n",
    "de interés para el experimento:"
   ],
   "metadata": {
    "collapsed": false
   }
  },
  {
   "cell_type": "code",
   "execution_count": null,
   "outputs": [],
   "source": [
    "sensors_list = ['PM024', 'PM030', 'PM031', 'PM032', 'PM072']\n",
    "df_2 = df.loc[df['sensor'].isin(sensors_list)]"
   ],
   "metadata": {
    "collapsed": false,
    "pycharm": {
     "name": "#%%\n"
    }
   }
  },
  {
   "cell_type": "markdown",
   "source": [
    "Al igual que antes, veamos algunas estadísticas sobre este conjunto:"
   ],
   "metadata": {
    "collapsed": false
   }
  },
  {
   "cell_type": "code",
   "execution_count": null,
   "outputs": [],
   "source": [
    "df_2.describe().transpose()"
   ],
   "metadata": {
    "collapsed": false,
    "pycharm": {
     "name": "#%%\n"
    }
   }
  },
  {
   "cell_type": "markdown",
   "source": [
    "Veamos un boxplot:"
   ],
   "metadata": {
    "collapsed": false
   }
  },
  {
   "cell_type": "code",
   "execution_count": null,
   "outputs": [],
   "source": [
    "df_2.boxplot(column=['car_count'])"
   ],
   "metadata": {
    "collapsed": false,
    "pycharm": {
     "name": "#%%\n"
    }
   }
  },
  {
   "cell_type": "markdown",
   "source": [
    "No parece haber un outlayer muy claro como en el apartado `Descripción del dataset`"
   ],
   "metadata": {
    "collapsed": false
   }
  },
  {
   "cell_type": "markdown",
   "source": [
    "### Análisis gráfico Experimento #2\n",
    "\n",
    "Utilizando la función previamente creada se realizarán una serie de gráficas para ver la evolución de los datos del tráfico\n",
    "de manera más intuitiva.\n",
    "\n",
    "Para determinar si la medición en la que se registró el mayor valor para `car_count` es un outlayer se puede\n",
    "representar la evolución de ese día y de otros."
   ],
   "metadata": {
    "collapsed": false
   }
  },
  {
   "cell_type": "code",
   "execution_count": null,
   "outputs": [],
   "source": [
    "df_2.loc[df_2['car_count'] == 104]"
   ],
   "metadata": {
    "collapsed": false,
    "pycharm": {
     "name": "#%%\n"
    }
   }
  },
  {
   "cell_type": "code",
   "execution_count": null,
   "outputs": [],
   "source": [
    "days = pd.date_range(start='2019-12-17', end='2019-12-19', freq='D')\n",
    "plot_sensors_daily_data(df_orig=df_2, days_list = days, sensor='PM032')"
   ],
   "metadata": {
    "collapsed": false,
    "pycharm": {
     "name": "#%%\n"
    }
   }
  },
  {
   "cell_type": "markdown",
   "source": [
    "En la gráfica correspondiente al `2019-12-17` se puede observar lo comentado en el anterior experimento. Los sensores\n",
    "pueden fallar (o no realizar mediciones por labores de mantenimiento), por lo que, en caso de que esto suceda, **las mediciones\n",
    "de los otros sensores que fueron realizados en ese mismo instante temporal deben ser descartadas.**\n",
    "\n",
    "*De esto ya se encarga la\n",
    "función que ha sido creada para preparar el dataset.*\n",
    "\n",
    "Por otra parte, la gráfica correspondiente `2019-12-18`, el día en el que se registró el máximo valor de `car_count`, se\n",
    "puede observar un pico muy pronunciado. Para tener más claro si se trata de un error en la medición se pueden observar las\n",
    "mediciones previas y posteriores a ese instante temporal para el sensor `PM032`:"
   ],
   "metadata": {
    "collapsed": false
   }
  },
  {
   "cell_type": "code",
   "execution_count": null,
   "outputs": [],
   "source": [
    "df_2.loc[(df_2['datetime'] >= '2019-12-18 10:30:00') & (df_2['datetime'] <= '2019-12-18 11:00:00') & (df_2['sensor'] == 'PM032')]"
   ],
   "metadata": {
    "collapsed": false,
    "pycharm": {
     "name": "#%%\n"
    }
   }
  },
  {
   "cell_type": "markdown",
   "source": [
    "Observando las mediciones anteriores y posteriores se puede observar que no hay entradas para los 10 minutos anteriores.\n",
    "**En ocasiones, los sensores se detienen o fallan y al recuperarse insertan como medición el total de coches que pasaron\n",
    "durante esos minutos que estuvieron fuera de servicio. Este valor es el resultado de un error, por lo que la medición debe\n",
    "ser eliminada:**"
   ],
   "metadata": {
    "collapsed": false
   }
  },
  {
   "cell_type": "code",
   "execution_count": null,
   "outputs": [],
   "source": [
    "df_2 = df_2[df_2['car_count'] != 104.0]"
   ],
   "metadata": {
    "collapsed": false,
    "pycharm": {
     "name": "#%%\n"
    }
   }
  },
  {
   "cell_type": "markdown",
   "source": [
    "Para determinar si alguna de las mediciones con mayor cuantía de vehículos (> 90) se trataba de un error se ha seguido un\n",
    "procedimiento similar. **Finalmente, se ha determinado que ninguna de esas mediciones se trata de un error.**"
   ],
   "metadata": {
    "collapsed": false
   }
  },
  {
   "cell_type": "markdown",
   "source": [
    "### Preparación dataset Experimento #2\n",
    "\n",
    "#### Label PM072\n",
    "\n",
    "Para este experimento, el vector de características que necesit el modelo tiene la siguiente forma:"
   ],
   "metadata": {
    "collapsed": false
   }
  },
  {
   "cell_type": "code",
   "execution_count": null,
   "outputs": [],
   "source": [
    "column_names = [\"datetime\", \"car_count_PM024\", \"car_count_PM030\", \"car_count_PM031\", \"car_count_PM032\", \"label_PM072\"]\n",
    "pd.DataFrame(columns = column_names)"
   ],
   "metadata": {
    "collapsed": false,
    "pycharm": {
     "name": "#%%\n"
    }
   }
  },
  {
   "cell_type": "markdown",
   "source": [
    "Es decir, para cada instante temporal (`datetime`) que hay en el dataset, debe haber un vector de características que\n",
    "contenga dicho instante temporal y el valor medido por los sensores que se usarán para predecir. Asimismo, también debe\n",
    "contener el valor medido por el sensor `PM072` `x minutos` después.\n",
    "\n",
    "Los sensores pueden fallar o detenerse por labores de mantenimiento, por lo que es posible que en algún instante temporal\n",
    "uno de los sensores tome una medición y otro no, quedando así el vector de características incompleto. Esto no puede\n",
    "permitirse, por lo que **si falta una medición de un sensor para un determinado instante temporal, todas las mediciones\n",
    "correspondientes a dicho instante deben ser eliminadas.**\n",
    "\n",
    "Para facilitar la preparación del dataset se ha creado la siguiente función. Recibe el dataset original, la lista de sensores\n",
    "que se usarán para predecir, el sensor en el que se quiere predecir y los `x minutos` de desfase temporal.\n"
   ],
   "metadata": {
    "collapsed": false
   }
  },
  {
   "cell_type": "markdown",
   "source": [
    "A continuación se utiliza la función para preparar el dataset para el Experimento #2:"
   ],
   "metadata": {
    "collapsed": false
   }
  },
  {
   "cell_type": "code",
   "execution_count": null,
   "outputs": [],
   "source": [
    "sensors_list = ['PM024', 'PM030', 'PM031', 'PM032']\n",
    "df_2 = prepare_df(df_2, sensors_list, 'PM072', x = 5)"
   ],
   "metadata": {
    "collapsed": false,
    "pycharm": {
     "name": "#%%\n"
    }
   }
  },
  {
   "cell_type": "code",
   "execution_count": null,
   "outputs": [],
   "source": [
    "df_2.sample()"
   ],
   "metadata": {
    "collapsed": false,
    "pycharm": {
     "name": "#%%\n"
    }
   }
  },
  {
   "cell_type": "markdown",
   "source": [
    "#### Tiempo\n",
    "\n",
    "Para codificar el tiempo usaremos la misma función que en el Experimento #1:\n"
   ],
   "metadata": {
    "collapsed": false
   }
  },
  {
   "cell_type": "code",
   "execution_count": null,
   "outputs": [],
   "source": [
    "df_2 = encode_time_sin_cos(df_2)\n",
    "df_2.sample()"
   ],
   "metadata": {
    "collapsed": false,
    "pycharm": {
     "name": "#%%\n"
    }
   }
  },
  {
   "cell_type": "markdown",
   "source": [
    "#### División del dataset, Separación y Normalización\n"
   ],
   "metadata": {
    "collapsed": false
   }
  },
  {
   "cell_type": "code",
   "execution_count": null,
   "outputs": [],
   "source": [
    "\n",
    "\n",
    "\n",
    "\n",
    "\n",
    "\n",
    "\n",
    "\n",
    "\n",
    "\n",
    "\n",
    "\n",
    "\n"
   ],
   "metadata": {
    "collapsed": false,
    "pycharm": {
     "name": "#%%\n"
    }
   }
  },
  {
   "cell_type": "markdown",
   "source": [
    "## Experimento #3\n",
    "\n",
    "Tal y como se indicó en el apartado `Experimentos`, en el **Experimento #3** se tratará de predecir\n",
    "el tráfico en el punto en el que se ubica el sensor `PM072` (CITIUS) en un instante t a partir de\n",
    "las mediciones realizadas en un instante `t-x` por los sensores:\n",
    "- `PM020` (Rotonda Galuresa - Avda. Romero Donallo)\n",
    "- `PM076` (Rúa do Horreo - Rotonda Galuresa)\n",
    "- `PM077` (Avda. Romero Donallo - Rotonda Galuresa)\n",
    "- `PM079` (Rúa do Horreo - Rotonda Galuresa)\n",
    "\n",
    "### Análisis dataset Experimento #3\n",
    "\n",
    "En primer lugar, hay que obtener solo aquellas mediciones que hayan sido tomadas por los sensores que resultan\n",
    "de interés para el experimento:"
   ],
   "metadata": {
    "collapsed": false
   }
  },
  {
   "cell_type": "code",
   "execution_count": 123,
   "outputs": [],
   "source": [
    "sensors_list = ['PM028', 'PM076', 'PM077', 'PM079', 'PM072']\n",
    "df_3 = df.loc[df['sensor'].isin(sensors_list)]"
   ],
   "metadata": {
    "collapsed": false,
    "pycharm": {
     "name": "#%%\n"
    }
   }
  },
  {
   "cell_type": "markdown",
   "source": [
    "Al igual que antes, veamos algunas estadísticas sobre este conjunto:"
   ],
   "metadata": {
    "collapsed": false
   }
  },
  {
   "cell_type": "code",
   "execution_count": 124,
   "outputs": [
    {
     "data": {
      "text/plain": "              count       mean        std  min  25%   50%        75%  \\\ncar_count  198306.0  13.867993  12.051214  0.0  3.0  12.0  20.916667   \n\n                  max  \ncar_count  311.083333  ",
      "text/html": "<div>\n<style scoped>\n    .dataframe tbody tr th:only-of-type {\n        vertical-align: middle;\n    }\n\n    .dataframe tbody tr th {\n        vertical-align: top;\n    }\n\n    .dataframe thead th {\n        text-align: right;\n    }\n</style>\n<table border=\"1\" class=\"dataframe\">\n  <thead>\n    <tr style=\"text-align: right;\">\n      <th></th>\n      <th>count</th>\n      <th>mean</th>\n      <th>std</th>\n      <th>min</th>\n      <th>25%</th>\n      <th>50%</th>\n      <th>75%</th>\n      <th>max</th>\n    </tr>\n  </thead>\n  <tbody>\n    <tr>\n      <th>car_count</th>\n      <td>198306.0</td>\n      <td>13.867993</td>\n      <td>12.051214</td>\n      <td>0.0</td>\n      <td>3.0</td>\n      <td>12.0</td>\n      <td>20.916667</td>\n      <td>311.083333</td>\n    </tr>\n  </tbody>\n</table>\n</div>"
     },
     "execution_count": 124,
     "metadata": {},
     "output_type": "execute_result"
    }
   ],
   "source": [
    "df_3.describe().transpose()"
   ],
   "metadata": {
    "collapsed": false,
    "pycharm": {
     "name": "#%%\n"
    }
   }
  },
  {
   "cell_type": "markdown",
   "source": [
    "Veamos un boxplot:"
   ],
   "metadata": {
    "collapsed": false
   }
  },
  {
   "cell_type": "code",
   "execution_count": 125,
   "outputs": [
    {
     "data": {
      "text/plain": "<AxesSubplot:>"
     },
     "execution_count": 125,
     "metadata": {},
     "output_type": "execute_result"
    },
    {
     "data": {
      "text/plain": "<Figure size 576x432 with 1 Axes>",
      "image/png": "[encoded data removed]"
     },
     "metadata": {
      "needs_background": "light"
     },
     "output_type": "display_data"
    }
   ],
   "source": [
    "df_3.boxplot(column=['car_count'])"
   ],
   "metadata": {
    "collapsed": false,
    "pycharm": {
     "name": "#%%\n"
    }
   }
  },
  {
   "cell_type": "markdown",
   "source": [
    "En este boxplot se pueden ver 3 outalyers muy claros. En la siguiente sección se determinará la causa de dichos valores."
   ],
   "metadata": {
    "collapsed": false
   }
  },
  {
   "cell_type": "markdown",
   "source": [
    "### Análisis gráfico Experimento #3\n",
    "\n",
    "Utilizando la función previamente creada se realizarán una serie de gráficas para ver la evolución de los datos del tráfico\n",
    "de manera más intuitiva.\n",
    "\n",
    "A continuación se analizarán las mediciones 'sospechosas' del boxplot anterior:"
   ],
   "metadata": {
    "collapsed": false
   }
  },
  {
   "cell_type": "code",
   "execution_count": 127,
   "outputs": [
    {
     "data": {
      "text/plain": "       sensor            datetime   car_count\n887859  PM079 2019-11-22 14:20:00  191.000000\n887861  PM077 2019-11-22 14:20:00  264.583333\n887862  PM076 2019-11-22 14:20:00  311.083333",
      "text/html": "<div>\n<style scoped>\n    .dataframe tbody tr th:only-of-type {\n        vertical-align: middle;\n    }\n\n    .dataframe tbody tr th {\n        vertical-align: top;\n    }\n\n    .dataframe thead th {\n        text-align: right;\n    }\n</style>\n<table border=\"1\" class=\"dataframe\">\n  <thead>\n    <tr style=\"text-align: right;\">\n      <th></th>\n      <th>sensor</th>\n      <th>datetime</th>\n      <th>car_count</th>\n    </tr>\n  </thead>\n  <tbody>\n    <tr>\n      <th>887859</th>\n      <td>PM079</td>\n      <td>2019-11-22 14:20:00</td>\n      <td>191.000000</td>\n    </tr>\n    <tr>\n      <th>887861</th>\n      <td>PM077</td>\n      <td>2019-11-22 14:20:00</td>\n      <td>264.583333</td>\n    </tr>\n    <tr>\n      <th>887862</th>\n      <td>PM076</td>\n      <td>2019-11-22 14:20:00</td>\n      <td>311.083333</td>\n    </tr>\n  </tbody>\n</table>\n</div>"
     },
     "execution_count": 127,
     "metadata": {},
     "output_type": "execute_result"
    }
   ],
   "source": [
    "df_3.loc[df_3['car_count'] > 100]"
   ],
   "metadata": {
    "collapsed": false,
    "pycharm": {
     "name": "#%%\n"
    }
   }
  },
  {
   "cell_type": "markdown",
   "source": [
    "Resulta interesante ver que las 3 mediciones se produjeron en el mismo instante temporal.\n",
    "\n",
    "En la siguiente gráfica se muestra la evolución del día anterior y siguiente al `2019-11-22` para el\n",
    "sensor `PM079`:"
   ],
   "metadata": {
    "collapsed": false,
    "pycharm": {
     "name": "#%% md\n"
    }
   }
  },
  {
   "cell_type": "code",
   "execution_count": 129,
   "outputs": [
    {
     "data": {
      "text/plain": "<Figure size 1080x1080 with 3 Axes>",
      "image/png": "[encoded data removed]"
     },
     "metadata": {
      "needs_background": "light"
     },
     "output_type": "display_data"
    }
   ],
   "source": [
    "\n",
    "\n",
    "SEGUIR AQUIIIIII\n",
    "\n",
    "\n",
    "\n",
    "\n",
    "\n",
    "\n",
    "\n",
    "\n",
    "\n",
    "\n",
    "\n",
    "days = pd.date_range(start='2019-11-21', end='2019-11-23', freq='D')\n",
    "plot_sensors_daily_data(df_orig=df_3, days_list = days, sensor='PM079')"
   ],
   "metadata": {
    "collapsed": false,
    "pycharm": {
     "name": "#%%\n"
    }
   }
  },
  {
   "cell_type": "markdown",
   "source": [
    "En la gráfica correspondiente al `2019-11-22` se puede observar lo comentado en el anterior experimento. Los sensores\n",
    "pueden fallar (o no realizar mediciones por labores de mantenimiento), por lo que, en caso de que esto suceda, **las mediciones\n",
    "de los otros sensores que fueron realizados en ese mismo instante temporal deben ser descartadas.**\n",
    "\n",
    "*De esto ya se encarga la\n",
    "función que ha sido creada para preparar el dataset.*\n",
    "\n",
    "Por otra parte, la gráfica correspondiente `2019-12-18`, el día en el que se registró el máximo valor de `car_count`, se\n",
    "puede observar un pico muy pronunciado. Para tener más claro si se trata de un error en la medición se pueden observar las\n",
    "mediciones previas y posteriores a ese instante temporal para el sensor `PM032`:"
   ],
   "metadata": {
    "collapsed": false
   }
  },
  {
   "cell_type": "code",
   "execution_count": null,
   "outputs": [],
   "source": [
    "df_2.loc[(df_2['datetime'] >= '2019-12-18 10:30:00') & (df_2['datetime'] <= '2019-12-18 11:00:00') & (df_2['sensor'] == 'PM032')]"
   ],
   "metadata": {
    "collapsed": false,
    "pycharm": {
     "name": "#%%\n"
    }
   }
  },
  {
   "cell_type": "markdown",
   "source": [
    "Observando las mediciones anteriores y posteriores se puede observar que no hay entradas para los 10 minutos anteriores.\n",
    "**En ocasiones, los sensores se detienen o fallan y al recuperarse insertan como medición el total de coches que pasaron\n",
    "durante esos minutos que estuvieron fuera de servicio. Este valor es el resultado de un error, por lo que la medición debe\n",
    "ser eliminada:**"
   ],
   "metadata": {
    "collapsed": false
   }
  },
  {
   "cell_type": "code",
   "execution_count": null,
   "outputs": [],
   "source": [
    "df_2 = df_2[df_2['car_count'] != 104.0]"
   ],
   "metadata": {
    "collapsed": false,
    "pycharm": {
     "name": "#%%\n"
    }
   }
  },
  {
   "cell_type": "markdown",
   "source": [
    "Para determinar si alguna de las mediciones con mayor cuantía de vehículos (> 90) se trataba de un error se ha seguido un\n",
    "procedimiento similar. **Finalmente, se ha determinado que ninguna de esas mediciones se trata de un error.**"
   ],
   "metadata": {
    "collapsed": false
   }
  },
  {
   "cell_type": "markdown",
   "source": [
    "### Preparación dataset Experimento #2\n",
    "\n",
    "#### Label PM072\n",
    "\n",
    "Para este experimento, el vector de características que necesit el modelo tiene la siguiente forma:"
   ],
   "metadata": {
    "collapsed": false
   }
  },
  {
   "cell_type": "code",
   "execution_count": null,
   "outputs": [],
   "source": [
    "column_names = [\"datetime\", \"car_count_PM024\", \"car_count_PM030\", \"car_count_PM031\", \"car_count_PM032\", \"label_PM072\"]\n",
    "pd.DataFrame(columns = column_names)"
   ],
   "metadata": {
    "collapsed": false,
    "pycharm": {
     "name": "#%%\n"
    }
   }
  },
  {
   "cell_type": "markdown",
   "source": [
    "Es decir, para cada instante temporal (`datetime`) que hay en el dataset, debe haber un vector de características que\n",
    "contenga dicho instante temporal y el valor medido por los sensores que se usarán para predecir. Asimismo, también debe\n",
    "contener el valor medido por el sensor `PM072` `x minutos` después.\n",
    "\n",
    "Los sensores pueden fallar o detenerse por labores de mantenimiento, por lo que es posible que en algún instante temporal\n",
    "uno de los sensores tome una medición y otro no, quedando así el vector de características incompleto. Esto no puede\n",
    "permitirse, por lo que **si falta una medición de un sensor para un determinado instante temporal, todas las mediciones\n",
    "correspondientes a dicho instante deben ser eliminadas.**\n",
    "\n",
    "Para facilitar la preparación del dataset se ha creado la siguiente función. Recibe el dataset original, la lista de sensores\n",
    "que se usarán para predecir, el sensor en el que se quiere predecir y los `x minutos` de desfase temporal.\n"
   ],
   "metadata": {
    "collapsed": false
   }
  },
  {
   "cell_type": "markdown",
   "source": [
    "A continuación se utiliza la función para preparar el dataset para el Experimento #2:"
   ],
   "metadata": {
    "collapsed": false
   }
  },
  {
   "cell_type": "code",
   "execution_count": null,
   "outputs": [],
   "source": [
    "sensors_list = ['PM024', 'PM030', 'PM031', 'PM032']\n",
    "df_2 = prepare_df(df_2, sensors_list, 'PM072', x = 5)"
   ],
   "metadata": {
    "collapsed": false,
    "pycharm": {
     "name": "#%%\n"
    }
   }
  },
  {
   "cell_type": "code",
   "execution_count": null,
   "outputs": [],
   "source": [
    "df_2.sample()"
   ],
   "metadata": {
    "collapsed": false,
    "pycharm": {
     "name": "#%%\n"
    }
   }
  },
  {
   "cell_type": "markdown",
   "source": [
    "#### Tiempo\n",
    "\n",
    "Para codificar el tiempo usaremos la misma función que en el Experimento #1:\n"
   ],
   "metadata": {
    "collapsed": false
   }
  },
  {
   "cell_type": "code",
   "execution_count": null,
   "outputs": [],
   "source": [
    "df_2 = encode_time_sin_cos(df_2)\n",
    "df_2.sample()"
   ],
   "metadata": {
    "collapsed": false,
    "pycharm": {
     "name": "#%%\n"
    }
   }
  },
  {
   "cell_type": "markdown",
   "source": [
    "#### División del dataset, Separación y Normalización"
   ],
   "metadata": {
    "collapsed": false
   }
  }
 ],
 "metadata": {
  "kernelspec": {
   "display_name": "Python 3",
   "language": "python",
   "name": "python3"
  },
  "language_info": {
   "codemirror_mode": {
    "name": "ipython",
    "version": 2
   },
   "file_extension": ".py",
   "mimetype": "text/x-python",
   "name": "python",
   "nbconvert_exporter": "python",
   "pygments_lexer": "ipython2",
   "version": "2.7.6"
  }
 },
 "nbformat": 4,
 "nbformat_minor": 0
}