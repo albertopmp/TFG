{
 "cells": [
  {
   "cell_type": "markdown",
   "metadata": {
    "collapsed": true,
    "pycharm": {
     "name": "#%% md\n"
    }
   },
   "source": [
    "# Traffic Flow Data Analysis\n",
    "\n",
    "En esta hoja se hará un análisis inicial de los datos\n",
    "provenientes de las mediciones de los sensores proporcionadas por el\n",
    "ayuntamiento de la ciudad de Santiago de Compostela.\n",
    "\n",
    "En primer lugar hay que hacer los imports necesarios:"
   ]
  },
  {
   "cell_type": "code",
   "execution_count": null,
   "outputs": [],
   "source": [
    "import os\n",
    "import datetime\n",
    "\n",
    "import IPython\n",
    "import IPython.display\n",
    "import matplotlib as mpl\n",
    "import matplotlib.pyplot as plt\n",
    "import numpy as np\n",
    "import pandas as pd\n",
    "import seaborn as sns\n",
    "import tensorflow as tf\n",
    "from math import ceil\n",
    "import matplotlib.dates as mdates\n",
    "from matplotlib.dates import DateFormatter\n",
    "\n",
    "mpl.rcParams['figure.figsize'] = (8, 6)\n",
    "mpl.rcParams['axes.grid'] = False"
   ],
   "metadata": {
    "collapsed": false,
    "pycharm": {
     "name": "#%%\n"
    }
   }
  },
  {
   "cell_type": "markdown",
   "source": [
    "Se realiza la carga del fichero .csv que contiene los datos:"
   ],
   "metadata": {
    "collapsed": false,
    "pycharm": {
     "name": "#%% md\n"
    }
   }
  },
  {
   "cell_type": "code",
   "execution_count": 4,
   "outputs": [],
   "source": [
    "csv_path = \"../data/2_Oct2019.csv\"\n",
    "df = pd.read_csv(csv_path)\n"
   ],
   "metadata": {
    "collapsed": false,
    "pycharm": {
     "name": "#%%\n"
    }
   }
  },
  {
   "cell_type": "markdown",
   "source": [
    "Ahora vamos a ver cómo son los datos y los trataremos un poco:"
   ],
   "metadata": {
    "collapsed": false
   }
  },
  {
   "cell_type": "code",
   "execution_count": null,
   "outputs": [],
   "source": [
    "df.head()\n",
    "\n",
    "df.pop('speed')\n",
    "df.pop('FID')\n",
    "\n",
    "df['datetime'] = pd.to_datetime(df['datetime'], format='%Y-%m-%dT%H:%M:%S')\n",
    "\n",
    "df['car_count'] = df['flow']/12\n",
    "\n",
    "df.sample()"
   ],
   "metadata": {
    "collapsed": false,
    "pycharm": {
     "name": "#%%\n"
    }
   }
  },
  {
   "cell_type": "markdown",
   "source": [
    "Acciones realizadas:\n",
    "1. La columna `speed` no aporta nada, todos su valores son -9999\n",
    "2. La columna `FID` tampoco, es un identificador de cada medición, al igual que `_id`\n",
    "3. La columna `datetime` tuvo que ser formateada para obtener un formato válido\n",
    "4. La columna `flow` dividida por 12 representa el número de vehículos que pasaron sobre\n",
    "ese sensor en los últimos 5 minutos -> `car_count`\n",
    "\n",
    "Veamos algunas estadísticas del conjunto de datos:"
   ],
   "metadata": {
    "collapsed": false,
    "pycharm": {
     "name": "#%% md\n"
    }
   }
  },
  {
   "cell_type": "code",
   "execution_count": null,
   "outputs": [],
   "source": [
    "df.describe().transpose()\n"
   ],
   "metadata": {
    "collapsed": false,
    "pycharm": {
     "name": "#%%\n"
    }
   }
  },
  {
   "cell_type": "markdown",
   "source": [
    "El max de `flow` y por ende el de `car_count` no parece un número muy normal, y menos\n",
    "tratándose de una ciudad como Santiago de Compostela, dónde es imposible que circulen 8333\n",
    "vehículos sobre un sensor en 5 minutos. Es necesario arreglar este outlayer:\n",
    "\n",
    "(TODO: PONER LA MEDIA ENTRE LOS 5 MIN MIN ANTERIORES Y LOS 5 MINUTOS SIGUIENTES)"
   ],
   "metadata": {
    "collapsed": false,
    "pycharm": {
     "name": "#%% md\n"
    }
   }
  },
  {
   "cell_type": "code",
   "execution_count": null,
   "outputs": [],
   "source": [
    "flow = df['flow']\n",
    "bad_max_flow = flow == flow.max()\n",
    "flow[bad_max_flow] = 0.0\n",
    "\n",
    "count = df['car_count']\n",
    "bad_max_count = count == count.max()\n",
    "count[bad_max_count] = 0.0"
   ],
   "metadata": {
    "collapsed": false,
    "pycharm": {
     "name": "#%%\n"
    }
   }
  },
  {
   "cell_type": "code",
   "execution_count": null,
   "outputs": [],
   "source": [
    "df.describe().transpose()\n"
   ],
   "metadata": {
    "collapsed": false,
    "pycharm": {
     "name": "#%%\n"
    }
   }
  },
  {
   "cell_type": "markdown",
   "source": [
    "Parece que ahora tiene algo más de sentido.\n",
    "\n",
    "Veamos la evolución del tráfico a lo largo de este mes en un sensor relevante.\n",
    "El sensor escogido es el `PM072`, el que monitoriza el tráfico que entra en la rotonda\n",
    "del CITIUS:\n"
   ],
   "metadata": {
    "collapsed": false,
    "pycharm": {
     "name": "#%% md\n"
    }
   }
  },
  {
   "cell_type": "code",
   "execution_count": null,
   "outputs": [],
   "source": [
    "# Filas del sensor PM072\n",
    "PM072_data = df.loc[df['sensor'] == 'PM072']\n",
    "\n",
    "#Timestamps de los mediciones\n",
    "date_time = PM072_data['datetime']\n",
    "\n",
    "plot_cols = ['flow', 'car_count']\n",
    "plot_features = PM072_data[plot_cols]\n",
    "plot_features.index = date_time\n",
    "_ = plot_features.plot(subplots=True)"
   ],
   "metadata": {
    "collapsed": false,
    "pycharm": {
     "name": "#%%\n"
    }
   }
  },
  {
   "cell_type": "markdown",
   "source": [
    "La siguiente función recibe el nombre de un sensor, una lista de días y el dataset. Grafica\n",
    "la información recopilada por ese sensor durante esos días."
   ],
   "metadata": {
    "collapsed": false,
    "pycharm": {
     "name": "#%% md\n"
    }
   }
  },
  {
   "cell_type": "code",
   "execution_count": null,
   "outputs": [],
   "source": [
    "def plot_sensors_daily_data(sensor, daylist, df_orig):\n",
    "\n",
    "    df = df_orig.loc[df_orig['sensor'] == sensor]\n",
    "\n",
    "    fig, axs = plt.subplots(daylist.shape[0], figsize=(15,15))\n",
    "    fig.tight_layout(pad=5.0)\n",
    "    fig.suptitle('Data Sensor ' + sensor, fontsize=16)\n",
    "\n",
    "    for i in range(daylist.shape[0]):\n",
    "        x = df.loc[(df['datetime'] >= daylist[i]) & (df['datetime'] <= daylist[i]+datetime.timedelta(days=1)), 'datetime']\n",
    "        y = df.loc[(df['datetime'] >= daylist[i]) & (df['datetime'] <= daylist[i]+datetime.timedelta(days=1)), 'car_count']\n",
    "\n",
    "        myFmt = mdates.DateFormatter('%H:%M')\n",
    "        axs[i].xaxis.set_major_formatter(myFmt)\n",
    "        axs[i].set(xlabel='Hours', ylabel='Car count')\n",
    "        axs[i].set_title('Day: '+ daylist[i].strftime(\"%Y-%m-%d (%A)\"))\n",
    "\n",
    "        axs[i].plot(x, y)"
   ],
   "metadata": {
    "collapsed": false,
    "pycharm": {
     "name": "#%%\n"
    }
   }
  },
  {
   "cell_type": "markdown",
   "source": [
    "Podemos probar a pasarle los 7 días de una semana para ver como evoluciona el tráfico que pasa\n",
    "por ese sensor durante esa semana:"
   ],
   "metadata": {
    "collapsed": false,
    "pycharm": {
     "name": "#%% md\n"
    }
   }
  },
  {
   "cell_type": "code",
   "execution_count": null,
   "outputs": [],
   "source": [
    "days = pd.date_range(start='2019-10-21', end='2019-10-27', freq='D')\n",
    "plot_sensors_daily_data(sensor='PM072', daylist = days, df_orig=df)"
   ],
   "metadata": {
    "collapsed": false,
    "pycharm": {
     "name": "#%%\n"
    }
   }
  },
  {
   "cell_type": "markdown",
   "source": [
    "También podemos graficar los lunes (o cualquier día de la semana: W-SUN, W-FRI) que hubo en un mes:"
   ],
   "metadata": {
    "collapsed": false
   }
  },
  {
   "cell_type": "code",
   "execution_count": null,
   "outputs": [],
   "source": [
    "days = pd.date_range(start='2019-10-01', end='2019-10-31', freq='W-MON')\n",
    "plot_sensors_daily_data(sensor='PM072', daylist = days, df_orig=df)\n",
    "\n"
   ],
   "metadata": {
    "collapsed": false,
    "pycharm": {
     "name": "#%%\n"
    }
   }
  },
  {
   "cell_type": "markdown",
   "source": [
    "## Correlación entradas en rotondas y punto a predecir\n",
    "\n",
    "También es interesante ver la correlación entre el número de coches que entran en las rotonas y\n",
    "el número de coches que sale por el punto a predecir.\n",
    "\n",
    "El punto a predecir (CITIUS) es el sensor`PM072`\n",
    "1. Los sensores de entrada a la rotonda do Camiño Novo son: `PM030`, `PM031`, `PM032` y `PM033`\n",
    "2. Los de salida son: `PM024` y `PM034`\n",
    "3. Hacia Rosalía de Castro no hay sensor. Hay uno a la altura de Boel: `PM035`, pero perdemos el tráfico que va\n",
    "hacia la Plaza de Vigo y cuenta los que vienen de la misma. En la Avenida de Villagarcía hay un sensor (`PM025`) que podría usarse para compensar la\n",
    "pérdida del sensor de Boel, pero es peligroso, ya que cuenta también los coches que vienen de Rosalía de Castro\n",
    "(en sentido rotonda), los de Santiago de Chile y perdemos los que van en sentido Plaza Roja.\n",
    "\n",
    "Por otra parte, en la rotonda de la Galuresa tenemos:\n",
    "1. De entrada: `PM076`, `PM077` y `PM079`\n",
    "2. De salida: `PM016` (Perdemos los coches que entran en la estación de tren) y\n",
    "`PM020` (Perdemos los coches que van por Santiago de Chile)"
   ],
   "metadata": {
    "collapsed": false
   }
  }
 ],
 "metadata": {
  "kernelspec": {
   "display_name": "Python 3",
   "language": "python",
   "name": "python3"
  },
  "language_info": {
   "codemirror_mode": {
    "name": "ipython",
    "version": 2
   },
   "file_extension": ".py",
   "mimetype": "text/x-python",
   "name": "python",
   "nbconvert_exporter": "python",
   "pygments_lexer": "ipython2",
   "version": "2.7.6"
  }
 },
 "nbformat": 4,
 "nbformat_minor": 0
}